{
 "cells": [
  {
   "cell_type": "markdown",
   "id": "00cf6868",
   "metadata": {},
   "source": [
    "# Description\n",
    "\n",
    "This notebook is for fine tuning yolo to segment a given 3D platelet image into four organelles."
   ]
  },
  {
   "cell_type": "markdown",
   "id": "accf440d",
   "metadata": {},
   "source": [
    "# Imports"
   ]
  },
  {
   "cell_type": "code",
   "execution_count": 4,
   "id": "caeb1f06",
   "metadata": {},
   "outputs": [],
   "source": [
    "from ultralytics import YOLO\n",
    "import matplotlib.pyplot as plt\n",
    "from PIL import Image\n",
    "import yaml"
   ]
  },
  {
   "cell_type": "markdown",
   "id": "d9df98b9",
   "metadata": {},
   "source": [
    "# Loading pretrained model"
   ]
  },
  {
   "cell_type": "code",
   "execution_count": 2,
   "id": "8576790c",
   "metadata": {},
   "outputs": [
    {
     "name": "stdout",
     "output_type": "stream",
     "text": [
      "Downloading https://github.com/ultralytics/assets/releases/download/v8.3.0/yolo11n-seg.pt to 'yolo11n-seg.pt'...\n"
     ]
    },
    {
     "name": "stderr",
     "output_type": "stream",
     "text": [
      "100%|██████████| 5.90M/5.90M [00:01<00:00, 5.24MB/s]\n"
     ]
    }
   ],
   "source": [
    "model = YOLO(\"yolo11n-seg.yaml\")  # build a new model from YAML\n",
    "model = YOLO(\"yolo11n-seg.pt\")  # load a pretrained model (recommended for training)"
   ]
  },
  {
   "cell_type": "markdown",
   "id": "40bd5ce6",
   "metadata": {},
   "source": [
    "# Begin"
   ]
  },
  {
   "cell_type": "code",
   "execution_count": 6,
   "id": "8b8fbba8",
   "metadata": {},
   "outputs": [
    {
     "data": {
      "text/plain": [
       "'4'"
      ]
     },
     "execution_count": 6,
     "metadata": {},
     "output_type": "execute_result"
    }
   ],
   "source": [
    "with open(\"./yolo_dataset/data.yaml\", \"r\") as stream:\n",
    "    num_classes = str(yaml.safe_load(stream)['nc'])\n",
    "\n",
    "num_classes"
   ]
  },
  {
   "cell_type": "code",
   "execution_count": 7,
   "id": "60a78d79",
   "metadata": {},
   "outputs": [],
   "source": [
    "project = \"./results\"\n",
    "name = \"first_training_results\""
   ]
  },
  {
   "cell_type": "code",
   "execution_count": null,
   "id": "41d6ef4f",
   "metadata": {},
   "outputs": [],
   "source": [
    "results = model.train(data=\"./yolo_dataset/data.yaml\", \n",
    "                      project=project,\n",
    "                      epochs=200,\n",
    "                      patience=0,\n",
    "                      batch=4,\n",
    "                      imgsz=800\n",
    "                      )"
   ]
  }
 ],
 "metadata": {
  "kernelspec": {
   "display_name": "venv",
   "language": "python",
   "name": "python3"
  },
  "language_info": {
   "codemirror_mode": {
    "name": "ipython",
    "version": 3
   },
   "file_extension": ".py",
   "mimetype": "text/x-python",
   "name": "python",
   "nbconvert_exporter": "python",
   "pygments_lexer": "ipython3",
   "version": "3.12.0"
  }
 },
 "nbformat": 4,
 "nbformat_minor": 5
}
